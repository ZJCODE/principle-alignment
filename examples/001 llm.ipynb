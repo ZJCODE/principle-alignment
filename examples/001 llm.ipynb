{
 "cells": [
  {
   "cell_type": "code",
   "execution_count": 27,
   "metadata": {},
   "outputs": [],
   "source": [
    "import os\n",
    "import json\n",
    "from dotenv import load_dotenv\n",
    "from openai import OpenAI"
   ]
  },
  {
   "cell_type": "code",
   "execution_count": 29,
   "metadata": {},
   "outputs": [],
   "source": [
    "load_dotenv() # Load environment variables from .env file\n",
    "\n",
    "openai_client = OpenAI(\n",
    "    api_key=os.environ.get(\"OPENAI_API_KEY\"),\n",
    "    base_url=os.environ.get(\"OPENAI_BASE_URL\"),\n",
    ")\n",
    "\n",
    "deepseek_client = OpenAI(\n",
    "    api_key=os.environ.get(\"DEEPSEEK_API_KEY\"),\n",
    "    base_url=os.environ.get(\"DEEPSEEK_BASE_URL\"),\n",
    ")\n",
    "\n",
    "siliconflow_client = OpenAI(\n",
    "    api_key=os.environ.get(\"SILICONFLOW_API_KEY\"),\n",
    "    base_url=os.environ.get(\"SILICONFLOW_BASE_URL\"),\n",
    ")"
   ]
  },
  {
   "cell_type": "markdown",
   "metadata": {},
   "source": [
    "## Simple"
   ]
  },
  {
   "cell_type": "code",
   "execution_count": 34,
   "metadata": {},
   "outputs": [
    {
     "name": "stdout",
     "output_type": "stream",
     "text": [
      "Hello! I’m an AI language model created by OpenAI. I’m here to assist you with information, answer questions, and help with a variety of topics. How can I help you today?\n"
     ]
    }
   ],
   "source": [
    "response = openai_client.chat.completions.create(\n",
    "    messages=[\n",
    "        {\n",
    "            \"role\": \"user\",\n",
    "            \"content\": \"Hello, who are you?\",\n",
    "        }\n",
    "    ],\n",
    "    model=\"gpt-4o-mini\",\n",
    "    temperature = 0.5,\n",
    "    max_tokens=1024,\n",
    ")\n",
    "\n",
    "print(response.choices[0].message.content)"
   ]
  },
  {
   "cell_type": "code",
   "execution_count": 20,
   "metadata": {},
   "outputs": [
    {
     "name": "stdout",
     "output_type": "stream",
     "text": [
      "Hello! I'm DeepSeek-V3, an artificial intelligence assistant created by DeepSeek. I'm at your service and would be delighted to assist you with any inquiries or tasks you may have.\n"
     ]
    }
   ],
   "source": [
    "response = deepseek_client.chat.completions.create(\n",
    "    messages=[\n",
    "        {\n",
    "            \"role\": \"user\",\n",
    "            \"content\": \"Hello, who are you?\",\n",
    "        }\n",
    "    ],\n",
    "    model=\"deepseek-chat\",\n",
    "    temperature = 0.5,\n",
    "    max_tokens=1024,\n",
    ")\n",
    "\n",
    "print(response.choices[0].message.content)"
   ]
  },
  {
   "cell_type": "code",
   "execution_count": 30,
   "metadata": {},
   "outputs": [
    {
     "name": "stdout",
     "output_type": "stream",
     "text": [
      "Hello! I'm Qwen, a large language model created by Alibaba Cloud. I'm here to assist you with any questions or tasks you might have. How can I help you today?\n"
     ]
    }
   ],
   "source": [
    "response = siliconflow_client.chat.completions.create(\n",
    "    messages=[\n",
    "        {\n",
    "            \"role\": \"user\",\n",
    "            \"content\": \"Hello, who are you?\",\n",
    "        }\n",
    "    ],\n",
    "    model=\"Qwen/Qwen2.5-72B-Instruct\",\n",
    "    temperature = 0.0,\n",
    "    max_tokens=1024,\n",
    ")\n",
    "\n",
    "print(response.choices[0].message.content)"
   ]
  },
  {
   "cell_type": "markdown",
   "metadata": {},
   "source": [
    "## Structure"
   ]
  },
  {
   "cell_type": "code",
   "execution_count": 17,
   "metadata": {},
   "outputs": [
    {
     "name": "stdout",
     "output_type": "stream",
     "text": [
      "{'question': 'Which is the longest river in the world?', 'answer': 'The Nile River'}\n"
     ]
    }
   ],
   "source": [
    "system_prompt = \"\"\"\n",
    "The user will provide some exam text. Please parse the \"question\" and \"answer\" and output them in JSON format. \n",
    "\n",
    "EXAMPLE INPUT: \n",
    "Which is the highest mountain in the world? Mount Everest.\n",
    "\n",
    "EXAMPLE JSON OUTPUT:\n",
    "{\n",
    "    \"question\": \"Which is the highest mountain in the world?\",\n",
    "    \"answer\": \"Mount Everest\"\n",
    "}\n",
    "\"\"\"\n",
    "\n",
    "user_prompt = \"Which is the longest river in the world? The Nile River.\"\n",
    "\n",
    "messages = [{\"role\": \"system\", \"content\": system_prompt},\n",
    "            {\"role\": \"user\", \"content\": user_prompt}]\n",
    "\n",
    "response = openai_client.chat.completions.create(\n",
    "    model=\"gpt-4o-mini\",\n",
    "    messages=messages,\n",
    "    response_format={\n",
    "        'type': 'json_object'\n",
    "    }\n",
    ")\n",
    "\n",
    "print(json.loads(response.choices[0].message.content))"
   ]
  },
  {
   "cell_type": "code",
   "execution_count": 21,
   "metadata": {},
   "outputs": [
    {
     "name": "stdout",
     "output_type": "stream",
     "text": [
      "{'question': 'Which is the longest river in the world?', 'answer': 'The Nile River'}\n"
     ]
    }
   ],
   "source": [
    "system_prompt = \"\"\"\n",
    "The user will provide some exam text. Please parse the \"question\" and \"answer\" and output them in JSON format. \n",
    "\n",
    "EXAMPLE INPUT: \n",
    "Which is the highest mountain in the world? Mount Everest.\n",
    "\n",
    "EXAMPLE JSON OUTPUT:\n",
    "{\n",
    "    \"question\": \"Which is the highest mountain in the world?\",\n",
    "    \"answer\": \"Mount Everest\"\n",
    "}\n",
    "\"\"\"\n",
    "\n",
    "user_prompt = \"Which is the longest river in the world? The Nile River.\"\n",
    "\n",
    "messages = [{\"role\": \"system\", \"content\": system_prompt},\n",
    "            {\"role\": \"user\", \"content\": user_prompt}]\n",
    "\n",
    "response = deepseek_client.chat.completions.create(\n",
    "    model=\"deepseek-chat\",\n",
    "    messages=messages,\n",
    "    response_format={\n",
    "        'type': 'json_object'\n",
    "    }\n",
    ")\n",
    "\n",
    "print(json.loads(response.choices[0].message.content))"
   ]
  },
  {
   "cell_type": "markdown",
   "metadata": {},
   "source": [
    "## Vision"
   ]
  },
  {
   "cell_type": "code",
   "execution_count": 35,
   "metadata": {},
   "outputs": [
    {
     "name": "stdout",
     "output_type": "stream",
     "text": [
      "The image depicts a serene outdoor landscape featuring a wooden walkway winding through a lush, green marsh or field. The walkway, made of planks, leads through tall grasses and is bordered by greenery, including shrubs and trees in the background. The sky above is bright blue with scattered clouds, suggesting a pleasant daytime atmosphere. Overall, the scene conveys a sense of tranquility and natural beauty.\n"
     ]
    }
   ],
   "source": [
    "response = openai_client.chat.completions.create(\n",
    "  model=\"gpt-4o-mini\",\n",
    "  messages=[\n",
    "    {\n",
    "      \"role\": \"user\",\n",
    "      \"content\": [\n",
    "        {\"type\": \"text\", \"text\": \"What’s in this image?\"},\n",
    "        {\n",
    "          \"type\": \"image_url\",\n",
    "          \"image_url\": {\n",
    "            \"url\": \"https://upload.wikimedia.org/wikipedia/commons/thumb/d/dd/Gfp-wisconsin-madison-the-nature-boardwalk.jpg/2560px-Gfp-wisconsin-madison-the-nature-boardwalk.jpg\",\n",
    "          },\n",
    "        },\n",
    "      ],\n",
    "    }\n",
    "  ],\n",
    "  max_tokens=300,\n",
    ")\n",
    "\n",
    "print(response.choices[0].message.content)"
   ]
  },
  {
   "cell_type": "code",
   "execution_count": null,
   "metadata": {},
   "outputs": [],
   "source": []
  }
 ],
 "metadata": {
  "kernelspec": {
   "display_name": ".venv",
   "language": "python",
   "name": "python3"
  },
  "language_info": {
   "codemirror_mode": {
    "name": "ipython",
    "version": 3
   },
   "file_extension": ".py",
   "mimetype": "text/x-python",
   "name": "python",
   "nbconvert_exporter": "python",
   "pygments_lexer": "ipython3",
   "version": "3.12.5"
  }
 },
 "nbformat": 4,
 "nbformat_minor": 2
}
