{
 "cells": [
  {
   "cell_type": "code",
   "execution_count": 20,
   "metadata": {},
   "outputs": [],
   "source": [
    "# !pip install principle-alignment  -i https://pypi.org/simple"
   ]
  },
  {
   "cell_type": "code",
   "execution_count": 21,
   "metadata": {},
   "outputs": [],
   "source": [
    "import os\n",
    "from dotenv import load_dotenv\n",
    "from openai import OpenAI\n",
    "import json\n",
    "\n",
    "from principle_alignment import Alignment"
   ]
  },
  {
   "cell_type": "code",
   "execution_count": 25,
   "metadata": {},
   "outputs": [],
   "source": [
    "\n",
    "load_dotenv() # Load environment variables from .env file\n",
    "\n",
    "openai_client = OpenAI(\n",
    "    api_key=os.environ.get(\"OPENAI_API_KEY\"),\n",
    "    base_url=os.environ.get(\"OPENAI_BASE_URL\"),\n",
    ")\n",
    "\n",
    "model = \"gpt-4o-mini\"\n",
    "\n",
    "alignment = Alignment(client=openai_client, model=model,verbose=False)"
   ]
  },
  {
   "cell_type": "code",
   "execution_count": 26,
   "metadata": {},
   "outputs": [],
   "source": [
    "# alignment.prepare(principles=[\"Do no harm\", \"Respect user privacy\"])\n",
    "alignment.prepare(principles_file=\"principles.md\")"
   ]
  },
  {
   "cell_type": "code",
   "execution_count": 27,
   "metadata": {},
   "outputs": [
    {
     "name": "stdout",
     "output_type": "stream",
     "text": [
      "{\n",
      "    \"is_violation\": true,\n",
      "    \"violated_principle\": \"7. [Civic Responsibility]\",\n",
      "    \"explanation\": \"This thought promotes dishonesty and undermines the responsibility individuals have towards their community and society. Civic responsibility includes conducting oneself in a manner that respects the truth and the welfare of others. Lying to get ahead can lead to a breakdown of trust within the community and can have negative consequences for public welfare.\"\n",
      "}\n"
     ]
    }
   ],
   "source": [
    "user_input = \"I think it's okay to lie if it helps you get ahead in life.\"\n",
    "result = alignment.align(user_input)\n",
    "print(json.dumps(result, indent=4))"
   ]
  },
  {
   "cell_type": "code",
   "execution_count": 28,
   "metadata": {},
   "outputs": [
    {
     "name": "stdout",
     "output_type": "stream",
     "text": [
      "{\n",
      "    \"is_violation\": true,\n",
      "    \"violated_principle\": \"1. [Radical Inclusion] Anyone may be a part of Burning Man. We welcome and respect the stranger. No prerequisites exist for participation in our community.\",\n",
      "    \"explanation\": \"The statement indicates that Tom is being excluded from joining the club solely based on his membership status, which contradicts the principle of Radical Inclusion. This principle emphasizes that anyone should be able to participate in the community without any prerequisites or restrictions.\"\n",
      "}\n"
     ]
    }
   ],
   "source": [
    "user_input = \"Tom is not allowed to join this club because he is not a member.\"\n",
    "result = alignment.align(user_input)\n",
    "print(json.dumps(result, indent=4))"
   ]
  },
  {
   "cell_type": "code",
   "execution_count": 29,
   "metadata": {},
   "outputs": [
    {
     "name": "stdout",
     "output_type": "stream",
     "text": [
      "{\n",
      "    \"is_violation\": false,\n",
      "    \"violated_principle\": null,\n",
      "    \"explanation\": null\n",
      "}\n"
     ]
    }
   ],
   "source": [
    "user_input = \"You are so nice to me.\"\n",
    "result = alignment.align(user_input)\n",
    "print(json.dumps(result, indent=4))"
   ]
  },
  {
   "cell_type": "code",
   "execution_count": null,
   "metadata": {},
   "outputs": [],
   "source": []
  },
  {
   "cell_type": "code",
   "execution_count": null,
   "metadata": {},
   "outputs": [],
   "source": []
  }
 ],
 "metadata": {
  "kernelspec": {
   "display_name": ".venv",
   "language": "python",
   "name": "python3"
  },
  "language_info": {
   "codemirror_mode": {
    "name": "ipython",
    "version": 3
   },
   "file_extension": ".py",
   "mimetype": "text/x-python",
   "name": "python",
   "nbconvert_exporter": "python",
   "pygments_lexer": "ipython3",
   "version": "3.12.5"
  }
 },
 "nbformat": 4,
 "nbformat_minor": 2
}
