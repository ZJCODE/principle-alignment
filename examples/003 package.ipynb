{
 "cells": [
  {
   "cell_type": "code",
   "execution_count": 20,
   "metadata": {},
   "outputs": [],
   "source": [
    "# !pip install principle-alignment  -i https://pypi.org/simple"
   ]
  },
  {
   "cell_type": "code",
   "execution_count": 1,
   "metadata": {},
   "outputs": [],
   "source": [
    "import os\n",
    "from dotenv import load_dotenv\n",
    "from openai import OpenAI\n",
    "import json\n",
    "\n",
    "from principle_alignment import Alignment"
   ]
  },
  {
   "cell_type": "code",
   "execution_count": 2,
   "metadata": {},
   "outputs": [],
   "source": [
    "\n",
    "load_dotenv() # Load environment variables from .env file\n",
    "\n",
    "openai_client = OpenAI(\n",
    "    api_key=os.environ.get(\"OPENAI_API_KEY\"),\n",
    "    base_url=os.environ.get(\"OPENAI_BASE_URL\"),\n",
    ")\n",
    "\n",
    "model = \"gpt-4o-mini\"\n",
    "\n",
    "alignment = Alignment(client=openai_client, model=model,verbose=False)"
   ]
  },
  {
   "cell_type": "code",
   "execution_count": 3,
   "metadata": {},
   "outputs": [],
   "source": [
    "# alignment.prepare(principles=[\"Do no harm\", \"Respect user privacy\",\"Any one can participate this club\"])\n",
    "alignment.prepare(principles_file=\"principles.md\")"
   ]
  },
  {
   "cell_type": "code",
   "execution_count": 4,
   "metadata": {},
   "outputs": [
    {
     "name": "stdout",
     "output_type": "stream",
     "text": [
      "{\n",
      "    \"is_violation\": true,\n",
      "    \"violated_principle\": \"Do no harm\",\n",
      "    \"explanation\": \"The belief that it's acceptable to lie for personal gain can lead to harmful consequences for others, as it undermines trust and can damage reputations. This mindset promotes dishonesty and can result in negative impacts on relationships and communities.\"\n",
      "}\n"
     ]
    }
   ],
   "source": [
    "user_input = \"I think it's okay to lie if it helps you get ahead in life.\"\n",
    "result = alignment.align(user_input)\n",
    "print(json.dumps(result, indent=4))"
   ]
  },
  {
   "cell_type": "code",
   "execution_count": 10,
   "metadata": {},
   "outputs": [
    {
     "name": "stdout",
     "output_type": "stream",
     "text": [
      "{\n",
      "    \"content_intent\": \"The original message suggests the idea of collecting user data without obtaining consent, which raises ethical concerns regarding privacy.\",\n",
      "    \"revised_content\": \"Let's explore ways to collect user data while ensuring we obtain proper consent and respect user privacy.\"\n",
      "}\n",
      "{\n",
      "    \"is_violation\": true,\n",
      "    \"violated_principle\": \"Respect user privacy\",\n",
      "    \"explanation\": \"Collecting user data without consent directly violates the principle of respecting user privacy, as it disregards the user's right to control their personal information.\",\n",
      "    \"rectification\": \"Let's explore ways to collect user data while ensuring we obtain proper consent and respect user privacy.\"\n",
      "}\n"
     ]
    }
   ],
   "source": [
    "user_input = \"Let's collect user data without consent\"\n",
    "result = alignment.align_and_recitify(user_input)\n",
    "print(json.dumps(result, indent=4))"
   ]
  },
  {
   "cell_type": "code",
   "execution_count": 6,
   "metadata": {},
   "outputs": [
    {
     "name": "stdout",
     "output_type": "stream",
     "text": [
      "{\n",
      "    \"is_violation\": true,\n",
      "    \"violated_principle\": \"Any one can participate this club\",\n",
      "    \"explanation\": \"The statement implies that Tom is being excluded from joining the club based on his current membership status, which contradicts the principle that anyone should be able to participate in the club regardless of their membership status.\"\n",
      "}\n"
     ]
    }
   ],
   "source": [
    "user_input = \"Tom is not allowed to join this club because he is not a member.\"\n",
    "result = alignment.align(user_input)\n",
    "print(json.dumps(result, indent=4))"
   ]
  },
  {
   "cell_type": "code",
   "execution_count": 29,
   "metadata": {},
   "outputs": [
    {
     "name": "stdout",
     "output_type": "stream",
     "text": [
      "{\n",
      "    \"is_violation\": false,\n",
      "    \"violated_principle\": null,\n",
      "    \"explanation\": null\n",
      "}\n"
     ]
    }
   ],
   "source": [
    "user_input = \"You are so nice to me.\"\n",
    "result = alignment.align(user_input)\n",
    "print(json.dumps(result, indent=4))"
   ]
  },
  {
   "cell_type": "code",
   "execution_count": 4,
   "metadata": {},
   "outputs": [
    {
     "name": "stdout",
     "output_type": "stream",
     "text": [
      "{\n",
      "    \"is_violation\": true,\n",
      "    \"violated_principle\": \"1. [Radical Inclusion] Anyone may be a part of Burning Man. We welcome and respect the stranger. No prerequisites exist for participation in our community.\",\n",
      "    \"explanation\": \"The statement indicates that Tom is being excluded from joining the club based on his membership status, which contradicts the principle of Radical Inclusion. This principle emphasizes that anyone should be able to participate in the community without any prerequisites or barriers to entry.\",\n",
      "    \"rectification\": \"Tom is currently not a member of this club, but we encourage him to explore ways to participate and become involved.\"\n",
      "}\n"
     ]
    }
   ],
   "source": [
    "user_input = \"Tom is not allowed to join this club because he is not a member.\"\n",
    "result = alignment.align_and_rectify(user_input)\n",
    "print(json.dumps(result, indent=4))"
   ]
  },
  {
   "cell_type": "code",
   "execution_count": null,
   "metadata": {},
   "outputs": [],
   "source": []
  }
 ],
 "metadata": {
  "kernelspec": {
   "display_name": ".venv",
   "language": "python",
   "name": "python3"
  },
  "language_info": {
   "codemirror_mode": {
    "name": "ipython",
    "version": 3
   },
   "file_extension": ".py",
   "mimetype": "text/x-python",
   "name": "python",
   "nbconvert_exporter": "python",
   "pygments_lexer": "ipython3",
   "version": "3.12.5"
  }
 },
 "nbformat": 4,
 "nbformat_minor": 2
}
